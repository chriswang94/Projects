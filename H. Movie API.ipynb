{
 "cells": [
  {
   "cell_type": "markdown",
   "metadata": {},
   "source": [
    "# Movie Recommender\n",
    "\n",
    "The following program inputs a list of movies and generates a list of recommended movies\n",
    "according to the TasteDive API and sorts them based on their Rotten Tomatoes ratings, retrieved from the OMDB API.\n",
    "\n",
    "## Program Methodology\n",
    "\n",
    "The ultimate goal of this application is to retrieve a list of similar movies (sorted by rating) to a provided list of movies.\n",
    "This task is performed with the following steps:  \n",
    "1. For each movie title in a provided list of movie titles, get a 5 similar movies from TasteDive API\n",
    "2. Extract the movie titles from each TasteDive output\n",
    "3. Compile all movie titles into a single list, omitting duplicate titles\n",
    "4. For each movie title extracted from TasteDive, retrieve detailed data from OMDB API\n",
    "5. Extract Rotten Tomatoes ratings for each\n",
    "6. Sort the movie list by rating (descending order)\n",
    "\n",
    "API Platforms: \n",
    "* https://tastedive.com/read/api\n",
    "* https://www.omdbapi.com/  "
   ]
  },
  {
   "cell_type": "code",
   "execution_count": 17,
   "metadata": {},
   "outputs": [],
   "source": [
    "import requests\n",
    "import json"
   ]
  },
  {
   "cell_type": "code",
   "execution_count": 16,
   "metadata": {},
   "outputs": [],
   "source": [
    "# API Platform: https://tastedive.com/read/api\n",
    "\n",
    "def get_movies_from_tastedive(s, tastedive_api_key=''):\n",
    "    '''\n",
    "    Retrieves 5 similar movies from TasteDive API platform\n",
    "    Inputs: Movie title as string, api_key as string\n",
    "    Returns: dictionary of 5 similar movies\n",
    "    '''\n",
    "    parameters = {'k': tastedive_api_key, 'q': s, 'type': 'movies', 'limit': 5}\n",
    "    response = requests.get(\"https://tastedive.com/api/similar\", params = parameters)\n",
    "    \n",
    "    return json.loads(response.text)\n",
    "\n",
    "def extract_movie_titles(d): \n",
    "    '''\n",
    "    Extracts movie titles of similar movies from dictionary of movie data provided\n",
    "    after calling get_movies_from_tastedive(...)\n",
    "    Input: dictionary of movie data\n",
    "    Returns: list of movie titles\n",
    "    '''\n",
    "    return [x['Name'] for x in d['Similar']['Results']]\n",
    "\n",
    "def get_related_titles(lst, tastedive_api_key):\n",
    "    '''\n",
    "    Creates a list of movies similar to provided list of movies, omitting duplicates\n",
    "    Inputs: list of movies, api_key as string\n",
    "    Returns: list of unique similar movies\n",
    "    '''\n",
    "    related = []\n",
    "    related_distinct = []\n",
    "    for x in lst:\n",
    "        related.append(extract_movie_titles(get_movies_from_tastedive(x, tastedive_api_key)))\n",
    "    \n",
    "    # omit duplicate movies\n",
    "    for lst in related:\n",
    "        for i in lst:\n",
    "            if i not in related_distinct: related_distinct.append(i)\n",
    "    \n",
    "    return related_distinct"
   ]
  },
  {
   "cell_type": "code",
   "execution_count": 18,
   "metadata": {},
   "outputs": [],
   "source": [
    "# API Platform: https://www.omdbapi.com/\n",
    "\n",
    "def get_movie_data(s, omdb_api_key):\n",
    "    '''\n",
    "    Retrieves data about a movie from the OMDB API platform\n",
    "    Inputs: Movie title as string, API Key as string\n",
    "    Returns: Movie data in dictionary format\n",
    "    '''\n",
    "    parameters = {'apikey': omdb_api_key, 't': s, 'r': 'json'}\n",
    "    response = requests.get(\"http://www.omdbapi.com/\", params = parameters)\n",
    "    \n",
    "    return json.loads(response.text)\n",
    "\n",
    "def get_movie_rating(d):\n",
    "    '''\n",
    "    Extract Rotten Tomatoes movie rating from dictionary provided by\n",
    "    OMDB API\n",
    "    Inputs: dictionary provided by OMDB API after calling get_movie_data(...)\n",
    "    Returns: Movie Rating as int    \n",
    "    '''\n",
    "    for r in d['Ratings']:\n",
    "        if r['Source'] == 'Rotten Tomatoes':\n",
    "            return int(r['Value'].replace('%',''))\n",
    "    return 0\n",
    "\n",
    "def get_sorted_recommendations(lst, tastedive_api_key, omdb_api_key):\n",
    "    '''\n",
    "    Takes a list of movie titles and finds 5 related movie titles for each and \n",
    "    sorts all from highest rated to lowest rated (according to Rotten Tomatoes)\n",
    "    Inputs: list of movie titles, tastedive_api_key as str, omdb_api_key as str\n",
    "    Output: list of related movie titles, sorted from highest rated to lowest\n",
    "    '''\n",
    "    # get related movies\n",
    "    related_lst = get_related_titles(lst, tastedive_api_key)\n",
    "    \n",
    "    # get movie ratings\n",
    "    d = []\n",
    "    for l in related_lst:\n",
    "        d.append((l, get_movie_rating(get_movie_data(l, omdb_api_key))))\n",
    "    \n",
    "    # sort\n",
    "    # d.sort(key = lambda x: x[0], reverse = True) Sort in reverse alphabetical order to break ties\n",
    "    d.sort(key = lambda x: x[1], reverse = True)\n",
    "    \n",
    "    return [x[0] for x in d]"
   ]
  },
  {
   "cell_type": "code",
   "execution_count": 20,
   "metadata": {},
   "outputs": [
    {
     "data": {
      "text/plain": [
       "['Ant-Man And The Wasp',\n",
       " 'Ralph Breaks The Internet',\n",
       " 'Avengers: Infinity War',\n",
       " 'Captain Marvel',\n",
       " 'Jumanji: Welcome To The Jungle',\n",
       " 'The Fate Of The Furious',\n",
       " 'Alita: Battle Angel',\n",
       " 'The Mummy',\n",
       " 'Fantastic Beasts: The Crimes Of Grindelwald',\n",
       " 'Mortal Engines']"
      ]
     },
     "execution_count": 20,
     "metadata": {},
     "output_type": "execute_result"
    }
   ],
   "source": [
    "TASTEDIVE_API_KEY = '335161-chris-HP8EYMN8'\n",
    "OMDB_API_KEY = '17cdc959'\n",
    "\n",
    "get_sorted_recommendations(['Black Panther', 'Captain Marvel'], TASTEDIVE_API_KEY, OMDB_API_KEY)"
   ]
  },
  {
   "cell_type": "code",
   "execution_count": null,
   "metadata": {},
   "outputs": [],
   "source": []
  }
 ],
 "metadata": {
  "kernelspec": {
   "display_name": "Python 3",
   "language": "python",
   "name": "python3"
  },
  "language_info": {
   "codemirror_mode": {
    "name": "ipython",
    "version": 3
   },
   "file_extension": ".py",
   "mimetype": "text/x-python",
   "name": "python",
   "nbconvert_exporter": "python",
   "pygments_lexer": "ipython3",
   "version": "3.6.8"
  }
 },
 "nbformat": 4,
 "nbformat_minor": 2
}
